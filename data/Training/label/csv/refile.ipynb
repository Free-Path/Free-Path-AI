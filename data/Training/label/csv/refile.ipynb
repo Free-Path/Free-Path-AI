{
 "cells": [
  {
   "metadata": {},
   "cell_type": "code",
   "outputs": [],
   "execution_count": null,
   "source": [
    "import os\n",
    "import re\n",
    "\n",
    "# 폴더 경로 설정\n",
    "folder_path = '/'  # 여기에 실제 폴더 경로를 입력하세요\n",
    "\n",
    "# 파일 이름에서 깨진 문자 제거 (점은 제외)하는 함수\n",
    "def clean_filename(filename):\n",
    "    # 파일 이름에서 한글, 영어, 숫자, 밑줄, 하이픈, 점만 남기기\n",
    "    clean_name = re.sub(r'[^a-zA-Z0-9가-힣_. -]', '', filename)\n",
    "    return clean_name\n",
    "\n",
    "# 폴더 내 모든 파일 확인\n",
    "for filename in os.listdir(folder_path):\n",
    "    old_file_path = os.path.join(folder_path, filename)\n",
    "\n",
    "    # 새로운 파일 이름 생성 (깨진 문자 제거)\n",
    "    new_filename = clean_filename(filename)\n",
    "\n",
    "    # 새 파일 경로 생성\n",
    "    new_file_path = os.path.join(folder_path, new_filename)\n",
    "\n",
    "    # 기존 파일명과 새로운 파일명이 다를 경우에만 이름 변경\n",
    "    if old_file_path != new_file_path:\n",
    "        try:\n",
    "            # 파일 이름 변경\n",
    "            os.rename(old_file_path, new_file_path)\n",
    "            print(f\"Renamed: '{filename}' -> '{new_filename}'\")\n",
    "        except Exception as e:\n",
    "            print(f\"Error renaming file '{filename}': {e}\")\n",
    "    else:\n",
    "        print(f\"No change needed for '{filename}'\")\n",
    "\n",
    "print(\"파일 이름에서 깨진 문자가 제거되었습니다.\")\n"
   ],
   "id": "7503d59bddac4c2d"
  },
  {
   "metadata": {},
   "cell_type": "code",
   "outputs": [],
   "execution_count": null,
   "source": [
    "import os\n",
    "\n",
    "# 폴더 경로 설정\n",
    "folder_path = 'C:/Users/kkh60/VSCode/aihub/data/csv'  # 여기에 실제 폴더 경로를 넣으세요\n",
    "\n",
    "# 폴더 내 모든 파일 확인\n",
    "for filename in os.listdir(folder_path):\n",
    "    if filename.endswith(\".csv\"):\n",
    "        file_path = os.path.join(folder_path, filename)\n",
    "\n",
    "        # 파일 읽기 (UTF-8 인코딩)\n",
    "        with open(file_path, 'r', encoding='utf-8') as file:\n",
    "            content = file.read()\n",
    "\n",
    "        # 파일 다시 쓰기 (UTF-8 with BOM 인코딩)\n",
    "        with open(file_path, 'w', encoding='utf-8-sig') as file:\n",
    "            file.write(content)\n",
    "\n",
    "print(\"모든 CSV 파일이 UTF-8(BOM) 인코딩으로 변환되었습니다.\")\n"
   ],
   "id": "a3779443e643920a"
  }
 ],
 "metadata": {
  "kernelspec": {
   "display_name": "Python 3",
   "language": "python",
   "name": "python3"
  },
  "language_info": {
   "codemirror_mode": {
    "name": "ipython",
    "version": 2
   },
   "file_extension": ".py",
   "mimetype": "text/x-python",
   "name": "python",
   "nbconvert_exporter": "python",
   "pygments_lexer": "ipython2",
   "version": "2.7.6"
  }
 },
 "nbformat": 4,
 "nbformat_minor": 5
}
